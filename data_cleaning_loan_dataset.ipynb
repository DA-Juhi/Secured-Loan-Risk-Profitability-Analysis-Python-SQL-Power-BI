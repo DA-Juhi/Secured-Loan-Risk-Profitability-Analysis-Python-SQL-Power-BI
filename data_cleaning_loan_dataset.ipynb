{
 "cells": [
  {
   "cell_type": "code",
   "execution_count": null,
   "id": "8adcf1b4-1d5a-48bf-b984-652119121773",
   "metadata": {},
   "outputs": [],
   "source": [
    "# Loan Portfolio Risk & Profitability Analysis\n",
    "# This script performs data cleaning, feature engineering, and exploratory analysis\n",
    "# on a secured loan portfolio dataset to identify risk and profitability drivers."
   ]
  },
  {
   "cell_type": "code",
   "execution_count": 19,
   "id": "cc46060e-7e45-439d-af8c-192264ed7ff4",
   "metadata": {},
   "outputs": [],
   "source": [
    "# Import necessary libraries\n",
    "import pandas as pd\n",
    "import numpy as np\n"
   ]
  },
  {
   "cell_type": "code",
   "execution_count": 7,
   "id": "0f662d58-805f-47df-9c7a-311ff023e4e1",
   "metadata": {},
   "outputs": [
    {
     "name": "stdout",
     "output_type": "stream",
     "text": [
      "(38576, 27)\n"
     ]
    }
   ],
   "source": [
    "# Import necessary libraries\n",
    "data = pd.read_csv(r\"C:\\Users\\grace\\Downloads\\Loan_dataset.csv\")\n",
    "print(data.shape)"
   ]
  },
  {
   "cell_type": "code",
   "execution_count": 8,
   "id": "3c75f4cd-83a3-4dc1-8992-44d0709a4a9e",
   "metadata": {},
   "outputs": [
    {
     "name": "stdout",
     "output_type": "stream",
     "text": [
      "        id address_state application_type emp_length              emp_title  \\\n",
      "0  1077430            GA       INDIVIDUAL   < 1 year                  Ryder   \n",
      "1  1072053            CA       INDIVIDUAL    9 years         Mkc Accounting   \n",
      "2  1069243            CA       INDIVIDUAL    4 years  Chemat Technology Inc   \n",
      "3  1041756            TX       INDIVIDUAL   < 1 year    Barnes Distribution   \n",
      "4  1068350            IL       INDIVIDUAL  10+ years          J&J Steel Inc   \n",
      "\n",
      "  grade home_ownership  issue_date last_credit_pull_date last_payment_date  \\\n",
      "0     C           Rent  11-02-2021      13-09-2021 00:00  13-04-2021 00:00   \n",
      "1     E           Rent  01-01-2021      14-12-2021 00:00  15-01-2021 00:00   \n",
      "2     C           Rent  05-01-2021      12-12-2021 00:00  09-01-2021 00:00   \n",
      "3     B       Mortgage  25-02-2021      12-12-2021 00:00  12-03-2021 00:00   \n",
      "4     A       Mortgage  01-01-2021      14-12-2021 00:00  15-01-2021 00:00   \n",
      "\n",
      "   ... annual_income     dti  installment int_rate loan_amount total_acc  \\\n",
      "0  ...       30000.0  0.0100        59.83   0.1527        2500         4   \n",
      "1  ...       48000.0  0.0535       109.43   0.1864        3000         4   \n",
      "2  ...       50000.0  0.2088       421.65   0.1596       12000        11   \n",
      "3  ...       42000.0  0.0540        97.06   0.1065        4500         9   \n",
      "4  ...       83000.0  0.0231       106.53   0.0603        3500        28   \n",
      "\n",
      "  total_payment  emp_length_numeric  Year  Month  \n",
      "0          1009                 0.5  2021      2  \n",
      "1          3939                 9.0  2021      1  \n",
      "2          3522                 4.0  2021      1  \n",
      "3          4911                 0.5  2021      2  \n",
      "4          3835                10.0  2021      1  \n",
      "\n",
      "[5 rows x 27 columns]\n"
     ]
    }
   ],
   "source": [
    "# Top 5 rows\n",
    "print(data.head(5))"
   ]
  },
  {
   "cell_type": "code",
   "execution_count": 3,
   "id": "0e4f905d-27a9-42a1-8d64-f11c252e0f9d",
   "metadata": {},
   "outputs": [
    {
     "name": "stdout",
     "output_type": "stream",
     "text": [
      "<class 'pandas.core.frame.DataFrame'>\n",
      "RangeIndex: 38576 entries, 0 to 38575\n",
      "Data columns (total 27 columns):\n",
      " #   Column                 Non-Null Count  Dtype  \n",
      "---  ------                 --------------  -----  \n",
      " 0   id                     38576 non-null  int64  \n",
      " 1   address_state          38576 non-null  object \n",
      " 2   application_type       38576 non-null  object \n",
      " 3   emp_length             38576 non-null  object \n",
      " 4   emp_title              37138 non-null  object \n",
      " 5   grade                  38576 non-null  object \n",
      " 6   home_ownership         38573 non-null  object \n",
      " 7   issue_date             38576 non-null  object \n",
      " 8   last_credit_pull_date  38576 non-null  object \n",
      " 9   last_payment_date      38576 non-null  object \n",
      " 10  loan_status            38576 non-null  object \n",
      " 11  next_payment_date      38576 non-null  object \n",
      " 12  member_id              38576 non-null  int64  \n",
      " 13  purpose                38576 non-null  object \n",
      " 14  sub_grade              38576 non-null  object \n",
      " 15  term                   38576 non-null  object \n",
      " 16  verification_status    38576 non-null  object \n",
      " 17  annual_income          38576 non-null  float64\n",
      " 18  dti                    38576 non-null  float64\n",
      " 19  installment            38576 non-null  float64\n",
      " 20  int_rate               38576 non-null  float64\n",
      " 21  loan_amount            38576 non-null  int64  \n",
      " 22  total_acc              38576 non-null  int64  \n",
      " 23  total_payment          38576 non-null  int64  \n",
      " 24  emp_length_numeric     38576 non-null  float64\n",
      " 25  Year                   38576 non-null  int64  \n",
      " 26  Month                  38576 non-null  int64  \n",
      "dtypes: float64(5), int64(7), object(15)\n",
      "memory usage: 7.9+ MB\n",
      "None\n"
     ]
    }
   ],
   "source": [
    "print(data.info())"
   ]
  },
  {
   "cell_type": "code",
   "execution_count": 5,
   "id": "23406774-22e6-41d8-b436-d0e3bf78db00",
   "metadata": {},
   "outputs": [
    {
     "name": "stdout",
     "output_type": "stream",
     "text": [
      "Total duplicate rows: 0\n",
      "Empty DataFrame\n",
      "Columns: [id, address_state, application_type, emp_length, emp_title, grade, home_ownership, issue_date, last_credit_pull_date, last_payment_date, loan_status, next_payment_date, member_id, purpose, sub_grade, term, verification_status, annual_income, dti, installment, int_rate, loan_amount, total_acc, total_payment, emp_length_numeric, Year, Month]\n",
      "Index: []\n",
      "\n",
      "[0 rows x 27 columns]\n"
     ]
    }
   ],
   "source": [
    "# Duplicates\n",
    "duplicates = data[data.duplicated()]\n",
    "print(f\"Total duplicate rows: {duplicates.shape[0]}\")\n",
    "print(duplicates)"
   ]
  },
  {
   "cell_type": "code",
   "execution_count": 4,
   "id": "9943af0f-5d02-4d1f-853d-99c7bae8939a",
   "metadata": {},
   "outputs": [
    {
     "name": "stdout",
     "output_type": "stream",
     "text": [
      "id                          0\n",
      "address_state               0\n",
      "application_type            0\n",
      "emp_length                  0\n",
      "emp_title                1438\n",
      "grade                       0\n",
      "home_ownership              3\n",
      "issue_date                  0\n",
      "last_credit_pull_date       0\n",
      "last_payment_date           0\n",
      "loan_status                 0\n",
      "next_payment_date           0\n",
      "member_id                   0\n",
      "purpose                     0\n",
      "sub_grade                   0\n",
      "term                        0\n",
      "verification_status         0\n",
      "annual_income               0\n",
      "dti                         0\n",
      "installment                 0\n",
      "int_rate                    0\n",
      "loan_amount                 0\n",
      "total_acc                   0\n",
      "total_payment               0\n",
      "emp_length_numeric          0\n",
      "Year                        0\n",
      "Month                       0\n",
      "dtype: int64\n"
     ]
    }
   ],
   "source": [
    "# Columns with null\n",
    "print(data.isnull().sum())"
   ]
  },
  {
   "cell_type": "code",
   "execution_count": 9,
   "id": "36b0101e-2cbf-479f-9cc3-0349f304e367",
   "metadata": {},
   "outputs": [
    {
     "name": "stdout",
     "output_type": "stream",
     "text": [
      "Percentage of nulls in emp_title: 3.73%\n"
     ]
    }
   ],
   "source": [
    "# Percentage of null\n",
    "total_rows = data.shape[0]\n",
    "null_percentage = (1438 / total_rows) * 100\n",
    "print(f\"Percentage of nulls in emp_title: {null_percentage:.2f}%\")\n"
   ]
  },
  {
   "cell_type": "code",
   "execution_count": 10,
   "id": "81cb1368-d471-4174-9e7e-fd20f996326b",
   "metadata": {},
   "outputs": [],
   "source": [
    "# Replace NULL with 'Not Provided'\n",
    "data['emp_title']= data['emp_title'].fillna('Not Provided')"
   ]
  },
  {
   "cell_type": "code",
   "execution_count": 11,
   "id": "554b0368-19c6-4869-92bd-dde815f2f29f",
   "metadata": {},
   "outputs": [
    {
     "name": "stdout",
     "output_type": "stream",
     "text": [
      "Nulls count after: 0\n"
     ]
    }
   ],
   "source": [
    "# Check emp_title after replacing\n",
    "nulls_count_after= data['emp_title'].isnull().sum()\n",
    "print(f\"Nulls count after: {nulls_count_after}\")"
   ]
  },
  {
   "cell_type": "code",
   "execution_count": 12,
   "id": "a4a6b441-2d55-40e4-82f4-6123cc15d14d",
   "metadata": {},
   "outputs": [],
   "source": [
    "# Remove 'months' and convert to int\n",
    "data['term'] = data['term'].str.replace('months', '').astype(int)"
   ]
  },
  {
   "cell_type": "code",
   "execution_count": 13,
   "id": "33538545-7ef3-480a-a4d0-d35d81eefe24",
   "metadata": {},
   "outputs": [
    {
     "name": "stdout",
     "output_type": "stream",
     "text": [
      "0    60\n",
      "1    36\n",
      "2    36\n",
      "3    60\n",
      "4    36\n",
      "Name: term, dtype: int64\n"
     ]
    }
   ],
   "source": [
    "print(data['term'].head(5))"
   ]
  },
  {
   "cell_type": "code",
   "execution_count": 14,
   "id": "c2a04227-451d-40f9-8e5b-c5c41c93390d",
   "metadata": {},
   "outputs": [
    {
     "name": "stdout",
     "output_type": "stream",
     "text": [
      "0   -1491\n",
      "1     939\n",
      "2   -8478\n",
      "3     411\n",
      "4     335\n",
      "Name: interest_paid, dtype: int64\n"
     ]
    }
   ],
   "source": [
    "# Feature Engineering\n",
    "# Interest Paid\n",
    "# Interest earned on the loan\n",
    "data['interest_paid'] = data['total_payment'] - data['loan_amount']\n",
    "print(data['interest_paid'].head(5))"
   ]
  },
  {
   "cell_type": "code",
   "execution_count": 15,
   "id": "a8dd397e-b17b-4a6d-84e9-dea5a40b078f",
   "metadata": {},
   "outputs": [
    {
     "name": "stdout",
     "output_type": "stream",
     "text": [
      "0    0.08\n",
      "1    0.06\n",
      "2    0.24\n",
      "3    0.11\n",
      "4    0.04\n",
      "Name: loan_to_income_ratio, dtype: float64\n"
     ]
    }
   ],
   "source": [
    "# Loan_to_income_ratio\n",
    "# Ratio of loan amount to borrower’s annual income\n",
    "data['loan_to_income_ratio'] = data['loan_amount'] / data['annual_income']\n",
    "data['loan_to_income_ratio']=data['loan_to_income_ratio'].round(2)\n",
    "print(data['loan_to_income_ratio'].head(5))"
   ]
  },
  {
   "cell_type": "code",
   "execution_count": 16,
   "id": "9d46e428-d284-452f-96fc-c0893c4c3c8b",
   "metadata": {},
   "outputs": [
    {
     "name": "stdout",
     "output_type": "stream",
     "text": [
      "0    19.09\n",
      "1    16.78\n",
      "2    57.46\n",
      "3    23.96\n",
      "4     6.33\n",
      "Name: Interest_amount, dtype: float64\n"
     ]
    }
   ],
   "source": [
    "# Interest Amount Column\n",
    "# Total interest paid over the loan term\n",
    "data['Interest_amount']=data['loan_amount']*(data['int_rate']/100)*(data['term']/12)\n",
    "data['Interest_amount']=data['Interest_amount'].round(2)\n",
    "print(data['Interest_amount'].head(5))"
   ]
  },
  {
   "cell_type": "code",
   "execution_count": 17,
   "id": "65a8c458-3d51-480a-83b7-deb2e9fbf04d",
   "metadata": {},
   "outputs": [
    {
     "name": "stdout",
     "output_type": "stream",
     "text": [
      "0     2.39\n",
      "1     2.74\n",
      "2    10.12\n",
      "3     2.77\n",
      "4     1.54\n",
      "Name: Installment_to_income, dtype: float64\n"
     ]
    }
   ],
   "source": [
    "# Installment to income\n",
    "# Ratio of monthly loan installment to borrower’s monthly income\n",
    "data['Installment_to_income']=(data['installment']/(data['annual_income']/12))*100\n",
    "data['Installment_to_income']=data['Installment_to_income'].round(2)\n",
    "print(data['Installment_to_income'].head(5))"
   ]
  },
  {
   "cell_type": "code",
   "execution_count": 18,
   "id": "8b82d051-62eb-4c64-a92d-5137078f322f",
   "metadata": {},
   "outputs": [
    {
     "name": "stdout",
     "output_type": "stream",
     "text": [
      "                 id     member_id          term  annual_income           dti  \\\n",
      "count  3.857600e+04  3.857600e+04  38576.000000   3.857600e+04  38576.000000   \n",
      "mean   6.810371e+05  8.476515e+05     42.432393   6.964454e+04      0.133274   \n",
      "std    2.113246e+05  2.668105e+05     10.630366   6.429368e+04      0.066662   \n",
      "min    5.473400e+04  7.069900e+04     36.000000   4.000000e+03      0.000000   \n",
      "25%    5.135170e+05  6.629788e+05     36.000000   4.150000e+04      0.082100   \n",
      "50%    6.627280e+05  8.473565e+05     36.000000   6.000000e+04      0.134200   \n",
      "75%    8.365060e+05  1.045652e+06     60.000000   8.320050e+04      0.185900   \n",
      "max    1.077501e+06  1.314167e+06     60.000000   6.000000e+06      0.299900   \n",
      "\n",
      "        installment      int_rate   loan_amount     total_acc  total_payment  \\\n",
      "count  38576.000000  38576.000000  38576.000000  38576.000000   38576.000000   \n",
      "mean     326.862965      0.120488  11296.066855     22.132544   12263.348533   \n",
      "std      209.092000      0.037164   7460.746022     11.392282    9051.104777   \n",
      "min       15.690000      0.054200    500.000000      2.000000      34.000000   \n",
      "25%      168.450000      0.093200   5500.000000     14.000000    5633.000000   \n",
      "50%      283.045000      0.118600  10000.000000     20.000000   10042.000000   \n",
      "75%      434.442500      0.145900  15000.000000     29.000000   16658.000000   \n",
      "max     1305.190000      0.245900  35000.000000     90.000000   58564.000000   \n",
      "\n",
      "       emp_length_numeric     Year         Month  interest_paid  \\\n",
      "count        38576.000000  38576.0  38576.000000   38576.000000   \n",
      "mean             5.034127   2021.0      7.167073     967.281678   \n",
      "std              3.482800      0.0      3.398998    4210.036823   \n",
      "min              0.500000   2021.0      1.000000  -34196.000000   \n",
      "25%              2.000000   2021.0      4.000000     362.000000   \n",
      "50%              4.000000   2021.0      7.000000    1060.000000   \n",
      "75%              9.000000   2021.0     10.000000    2378.250000   \n",
      "max             10.000000   2021.0     12.000000   23564.000000   \n",
      "\n",
      "       loan_to_income_ratio  Interest_amount  Installment_to_income  \n",
      "count          38576.000000     38576.000000           38576.000000  \n",
      "mean               0.187122        56.288481               6.554324  \n",
      "std                0.115695        60.399746               3.979032  \n",
      "min                0.000000         1.210000               0.030000  \n",
      "25%                0.100000        17.790000               3.520000  \n",
      "50%                0.160000        34.080000               5.770000  \n",
      "75%                0.250000        71.422500               8.800000  \n",
      "max                0.830000       418.420000              32.030000  \n"
     ]
    }
   ],
   "source": [
    "print(data.describe())"
   ]
  },
  {
   "cell_type": "code",
   "execution_count": null,
   "id": "faeefc51-daaf-4627-a955-8201b6d8608b",
   "metadata": {},
   "outputs": [],
   "source": []
  }
 ],
 "metadata": {
  "kernelspec": {
   "display_name": "Python 3 (ipykernel)",
   "language": "python",
   "name": "python3"
  },
  "language_info": {
   "codemirror_mode": {
    "name": "ipython",
    "version": 3
   },
   "file_extension": ".py",
   "mimetype": "text/x-python",
   "name": "python",
   "nbconvert_exporter": "python",
   "pygments_lexer": "ipython3",
   "version": "3.11.5"
  }
 },
 "nbformat": 4,
 "nbformat_minor": 5
}
